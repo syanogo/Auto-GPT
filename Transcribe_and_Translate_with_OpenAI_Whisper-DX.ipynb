{
  "nbformat": 4,
  "nbformat_minor": 0,
  "metadata": {
    "colab": {
      "provenance": [],
      "include_colab_link": true
    },
    "kernelspec": {
      "name": "python3",
      "display_name": "Python 3"
    },
    "language_info": {
      "name": "python"
    },
    "accelerator": "GPU"
  },
  "cells": [
    {
      "cell_type": "markdown",
      "metadata": {
        "id": "view-in-github",
        "colab_type": "text"
      },
      "source": [
        "<a href=\"https://colab.research.google.com/github/syanogo/Auto-GPT/blob/master/Transcribe_and_Translate_with_OpenAI_Whisper-DX.ipynb\" target=\"_parent\"><img src=\"https://colab.research.google.com/assets/colab-badge.svg\" alt=\"Open In Colab\"/></a>"
      ]
    },
    {
      "cell_type": "markdown",
      "source": [
        "By [Jason Boog](https://medium.com/@jasonboog)\n",
        "\n",
        "OpenAI's Whisper is a general-purpose speech recognition model that you can use to transcribe or translate audio files. You can use Whisper for free on a GPU using this Google Colab notebook.\n",
        "\n",
        "Thanks to ByteXD for [this video introduction](https://youtu.be/-KyqrwdTsN0).\n",
        "\n",
        "For more information about Whisper, you can visit [this GitHub repository](https://github.com/openai/whisper).\n",
        "\n",
        "Before we get started, save a copy of this Google Colab notebook to your Google Drive. Just open the File menu and choose \"Save a Copy in Drive.\"\n",
        "\n",
        "Open your copy of the Colab notebook on Google Chrome, and follow these steps to transcribe and translate."
      ],
      "metadata": {
        "id": "sICPfKnZCTVZ"
      }
    },
    {
      "cell_type": "markdown",
      "source": [
        "# Step One: Install Whisper\n",
        "\n",
        "This step will install the latest commit from the OpenAI repository on Github. Just run the cell below to install.\n",
        "\n"
      ],
      "metadata": {
        "id": "DEZezug-DzPB"
      }
    },
    {
      "cell_type": "code",
      "execution_count": null,
      "metadata": {
        "id": "XRRPAS8t1DXJ"
      },
      "outputs": [],
      "source": [
        "!pip install git+https://github.com/openai/whisper.git"
      ]
    },
    {
      "cell_type": "markdown",
      "source": [
        "# Step Two: Install ffmpeg\n",
        "\n",
        "You need to install [ffmpeg](https://ffmpeg.org), a cross-platform solution to record, convert and stream audio and video. Just run the cell to install."
      ],
      "metadata": {
        "id": "2E86sIkRE96A"
      }
    },
    {
      "cell_type": "code",
      "source": [
        "!sudo apt update && sudo apt install ffmpeg"
      ],
      "metadata": {
        "id": "-YsDcsci1xRE"
      },
      "execution_count": null,
      "outputs": []
    },
    {
      "cell_type": "markdown",
      "source": [
        "# Step Four: Transcribe\n",
        "\n",
        "To transcribe an .mp3, simply copy and paste the title of your .mp3 file into the command line below and run the cell.\n",
        "\n",
        "Don't forget the quotation marks!"
      ],
      "metadata": {
        "id": "D7j3VhEsGc4G"
      }
    },
    {
      "cell_type": "code",
      "source": [
        "!whisper \"Sean Astin main stage Roots Tech.mp3\" --model medium"
      ],
      "metadata": {
        "id": "-1pP466t8kpv"
      },
      "execution_count": null,
      "outputs": []
    },
    {
      "cell_type": "markdown",
      "source": [
        "# Step Five: Translate\n",
        "\n",
        "To translate an .mp3, simply copy and paste the title of your .mp3 file into the command line below and run the cell.\n",
        "\n",
        "You can change the language as needed in the command line, and English is the default output. Don't forget the quotation marks!\n",
        "\n",
        "Note: I created and successfully ran every step of this notebook with my Colab Pro subscription.\n",
        "\n",
        "On the basic Google Colab plan, all the steps worked except \"Step Five.\" This final step kept getting a \"Runtime discontinued\" error on the basic plan."
      ],
      "metadata": {
        "id": "TbeClltmKIEZ"
      }
    },
    {
      "cell_type": "code",
      "source": [
        "!whisper \"librodepoemas_04_garcialorca.mp3\" --task translate"
      ],
      "metadata": {
        "id": "DnZqS_5D2lhp"
      },
      "execution_count": null,
      "outputs": []
    },
    {
      "cell_type": "markdown",
      "source": [
        "# License\n",
        "\n",
        "MIT License\n",
        "\n",
        "Copyright (c) 2022 Jason Boog\n",
        "\n",
        "Permission is hereby granted, free of charge, to any person obtaining a copy of this software and associated documentation files (the \"Software\"), to deal in the Software without restriction, including without limitation the rights to use, copy, modify, merge, publish, distribute, sublicense, and/or sell copies of the Software, and to permit persons to whom the Software is furnished to do so, subject to the following conditions:\n",
        "\n",
        "The above copyright notice and this permission notice shall be included in all copies or substantial portions of the Software.\n",
        "\n",
        "THE SOFTWARE IS PROVIDED \"AS IS\", WITHOUT WARRANTY OF ANY KIND, EXPRESS OR IMPLIED, INCLUDING BUT NOT LIMITED TO THE WARRANTIES OF MERCHANTABILITY, FITNESS FOR A PARTICULAR PURPOSE AND NONINFRINGEMENT. IN NO EVENT SHALL THE AUTHORS OR COPYRIGHT HOLDERS BE LIABLE FOR ANY CLAIM, DAMAGES OR OTHER LIABILITY, WHETHER IN AN ACTION OF CONTRACT, TORT OR OTHERWISE, ARISING FROM, OUT OF OR IN CONNECTION WITH THE SOFTWARE OR THE USE OR OTHER DEALINGS IN THE SOFTWARE."
      ],
      "metadata": {
        "id": "L9jzU75GL1N3"
      }
    }
  ]
}